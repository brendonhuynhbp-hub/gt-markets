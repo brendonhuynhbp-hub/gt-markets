{
  "nbformat": 4,
  "nbformat_minor": 0,
  "metadata": {
    "colab": {
      "provenance": [],
      "name": "GoogleTrends_Financial_Modeling_Backtest.ipynb",
      "authorship_tag": "ABX9TyOeo9GfmlP4YRtUM+S5HazT",
      "include_colab_link": true
    },
    "kernelspec": {
      "name": "python3",
      "display_name": "Python 3"
    },
    "language_info": {
      "name": "python"
    }
  },
  "cells": [
    {
      "cell_type": "markdown",
      "metadata": {
        "id": "view-in-github",
        "colab_type": "text"
      },
      "source": [
        "<a href=\"https://colab.research.google.com/github/brendonhuynhbp-hub/gt-markets/blob/main/notebooks/GoogleTrends_Financial_Modeling_Backtest.ipynb\" target=\"_parent\"><img src=\"https://colab.research.google.com/assets/colab-badge.svg\" alt=\"Open In Colab\"/></a>"
      ]
    },
    {
      "cell_type": "markdown",
      "source": [
        "Setup: Mount Drive + Paths"
      ],
      "metadata": {
        "id": "AbwJ76zT6Jn3"
      }
    },
    {
      "cell_type": "code",
      "execution_count": 1,
      "metadata": {
        "colab": {
          "base_uri": "https://localhost:8080/"
        },
        "id": "GRpMJvOO1q2r",
        "outputId": "07d8b950-4052-45c4-8a55-08327c6f7f9d"
      },
      "outputs": [
        {
          "output_type": "stream",
          "name": "stdout",
          "text": [
            "Mounted at /content/drive\n",
            "Using: /content/drive/MyDrive/gt-markets/data/processed/merged_financial_trends_data_2025-09-07.csv\n"
          ]
        }
      ],
      "source": [
        "# mount Google Drive\n",
        "from google.colab import drive\n",
        "drive.mount('/content/drive')\n",
        "\n",
        "# Project paths\n",
        "from pathlib import Path\n",
        "PROJECT_DIR = Path(\"/content/drive/MyDrive/gt-markets\")\n",
        "DATA_DIR    = PROJECT_DIR / \"data\" / \"processed\"\n",
        "OUT_DIR     = PROJECT_DIR / \"outputs\"\n",
        "OUT_DIR.mkdir(parents=True, exist_ok=True)\n",
        "\n",
        "# Input file prepared by James\n",
        "MERGED_FILE = DATA_DIR / \"merged_financial_trends_data_2025-09-07.csv\"\n",
        "assert MERGED_FILE.exists(), f\"File not found: {MERGED_FILE}\"\n",
        "print(\"Using:\", MERGED_FILE)\n"
      ]
    },
    {
      "cell_type": "markdown",
      "source": [
        "Load merged table (prices + trends) and set Date index"
      ],
      "metadata": {
        "id": "E8LdJf8P6Ioj"
      }
    },
    {
      "cell_type": "code",
      "source": [
        "import pandas as pd\n",
        "import numpy as np\n",
        "\n",
        "df = pd.read_csv(MERGED_FILE)\n",
        "# Ensure Date is parsed and becomes the index\n",
        "assert \"Date\" in df.columns, \"Expected a 'Date' column in the CSV.\"\n",
        "df[\"Date\"] = pd.to_datetime(df[\"Date\"], errors=\"coerce\")\n",
        "df = df.dropna(subset=[\"Date\"]).set_index(\"Date\").sort_index()\n",
        "\n",
        "print(df.shape)\n",
        "df.head(3)\n"
      ],
      "metadata": {
        "colab": {
          "base_uri": "https://localhost:8080/",
          "height": 311
        },
        "id": "fWz04Kc054Xb",
        "outputId": "f24d54cc-697a-4a11-db0d-1c6099d553fc"
      },
      "execution_count": 2,
      "outputs": [
        {
          "output_type": "stream",
          "name": "stdout",
          "text": [
            "(2609, 123)\n"
          ]
        },
        {
          "output_type": "execute_result",
          "data": {
            "text/plain": [
              "            BTC-USD Close  CL=F Close   DXY Close   GC=F Close  \\\n",
              "Date                                                             \n",
              "2015-09-08     243.606995   45.939999  930.440002  1120.400024   \n",
              "2015-09-09     238.167999   44.150002  938.400024  1102.199951   \n",
              "2015-09-10     238.477005   45.919998  913.510010  1109.500000   \n",
              "\n",
              "            USDCNY=X Close  BTC-USD Open  CL=F Open    DXY Open    GC=F Open  \\\n",
              "Date                                                                           \n",
              "2015-09-08          6.3559    239.845993  45.820000  930.440002  1119.800049   \n",
              "2015-09-09          6.3572    243.414993  45.790001  938.400024  1123.500000   \n",
              "2015-09-10          6.3678    238.335999  44.160000  913.510010  1107.300049   \n",
              "\n",
              "            USDCNY=X Open  ...  el_salvador_trend  solana_trend  tesla_trend  \\\n",
              "Date                       ...                                                 \n",
              "2015-09-08         6.3559  ...                 54            80           29   \n",
              "2015-09-09         6.3572  ...                 52            73           28   \n",
              "2015-09-10         6.3678  ...                 45            69           31   \n",
              "\n",
              "            bitcoin_mining_trend  blockchain_trend  silk_road_trend  \\\n",
              "Date                                                                  \n",
              "2015-09-08                    35                39               54   \n",
              "2015-09-09                    36                44               56   \n",
              "2015-09-10                    38                47               60   \n",
              "\n",
              "            tor_trend  nigeria_trend  legal_tender_trend  nayib_bukele_trend  \n",
              "Date                                                                          \n",
              "2015-09-08         72             58                  44                   0  \n",
              "2015-09-09         73             58                  52                   0  \n",
              "2015-09-10         74             54                  59                  27  \n",
              "\n",
              "[3 rows x 123 columns]"
            ],
            "text/html": [
              "\n",
              "  <div id=\"df-4cae094a-268c-4ba4-9d4e-79cf190de38f\" class=\"colab-df-container\">\n",
              "    <div>\n",
              "<style scoped>\n",
              "    .dataframe tbody tr th:only-of-type {\n",
              "        vertical-align: middle;\n",
              "    }\n",
              "\n",
              "    .dataframe tbody tr th {\n",
              "        vertical-align: top;\n",
              "    }\n",
              "\n",
              "    .dataframe thead th {\n",
              "        text-align: right;\n",
              "    }\n",
              "</style>\n",
              "<table border=\"1\" class=\"dataframe\">\n",
              "  <thead>\n",
              "    <tr style=\"text-align: right;\">\n",
              "      <th></th>\n",
              "      <th>BTC-USD Close</th>\n",
              "      <th>CL=F Close</th>\n",
              "      <th>DXY Close</th>\n",
              "      <th>GC=F Close</th>\n",
              "      <th>USDCNY=X Close</th>\n",
              "      <th>BTC-USD Open</th>\n",
              "      <th>CL=F Open</th>\n",
              "      <th>DXY Open</th>\n",
              "      <th>GC=F Open</th>\n",
              "      <th>USDCNY=X Open</th>\n",
              "      <th>...</th>\n",
              "      <th>el_salvador_trend</th>\n",
              "      <th>solana_trend</th>\n",
              "      <th>tesla_trend</th>\n",
              "      <th>bitcoin_mining_trend</th>\n",
              "      <th>blockchain_trend</th>\n",
              "      <th>silk_road_trend</th>\n",
              "      <th>tor_trend</th>\n",
              "      <th>nigeria_trend</th>\n",
              "      <th>legal_tender_trend</th>\n",
              "      <th>nayib_bukele_trend</th>\n",
              "    </tr>\n",
              "    <tr>\n",
              "      <th>Date</th>\n",
              "      <th></th>\n",
              "      <th></th>\n",
              "      <th></th>\n",
              "      <th></th>\n",
              "      <th></th>\n",
              "      <th></th>\n",
              "      <th></th>\n",
              "      <th></th>\n",
              "      <th></th>\n",
              "      <th></th>\n",
              "      <th></th>\n",
              "      <th></th>\n",
              "      <th></th>\n",
              "      <th></th>\n",
              "      <th></th>\n",
              "      <th></th>\n",
              "      <th></th>\n",
              "      <th></th>\n",
              "      <th></th>\n",
              "      <th></th>\n",
              "      <th></th>\n",
              "    </tr>\n",
              "  </thead>\n",
              "  <tbody>\n",
              "    <tr>\n",
              "      <th>2015-09-08</th>\n",
              "      <td>243.606995</td>\n",
              "      <td>45.939999</td>\n",
              "      <td>930.440002</td>\n",
              "      <td>1120.400024</td>\n",
              "      <td>6.3559</td>\n",
              "      <td>239.845993</td>\n",
              "      <td>45.820000</td>\n",
              "      <td>930.440002</td>\n",
              "      <td>1119.800049</td>\n",
              "      <td>6.3559</td>\n",
              "      <td>...</td>\n",
              "      <td>54</td>\n",
              "      <td>80</td>\n",
              "      <td>29</td>\n",
              "      <td>35</td>\n",
              "      <td>39</td>\n",
              "      <td>54</td>\n",
              "      <td>72</td>\n",
              "      <td>58</td>\n",
              "      <td>44</td>\n",
              "      <td>0</td>\n",
              "    </tr>\n",
              "    <tr>\n",
              "      <th>2015-09-09</th>\n",
              "      <td>238.167999</td>\n",
              "      <td>44.150002</td>\n",
              "      <td>938.400024</td>\n",
              "      <td>1102.199951</td>\n",
              "      <td>6.3572</td>\n",
              "      <td>243.414993</td>\n",
              "      <td>45.790001</td>\n",
              "      <td>938.400024</td>\n",
              "      <td>1123.500000</td>\n",
              "      <td>6.3572</td>\n",
              "      <td>...</td>\n",
              "      <td>52</td>\n",
              "      <td>73</td>\n",
              "      <td>28</td>\n",
              "      <td>36</td>\n",
              "      <td>44</td>\n",
              "      <td>56</td>\n",
              "      <td>73</td>\n",
              "      <td>58</td>\n",
              "      <td>52</td>\n",
              "      <td>0</td>\n",
              "    </tr>\n",
              "    <tr>\n",
              "      <th>2015-09-10</th>\n",
              "      <td>238.477005</td>\n",
              "      <td>45.919998</td>\n",
              "      <td>913.510010</td>\n",
              "      <td>1109.500000</td>\n",
              "      <td>6.3678</td>\n",
              "      <td>238.335999</td>\n",
              "      <td>44.160000</td>\n",
              "      <td>913.510010</td>\n",
              "      <td>1107.300049</td>\n",
              "      <td>6.3678</td>\n",
              "      <td>...</td>\n",
              "      <td>45</td>\n",
              "      <td>69</td>\n",
              "      <td>31</td>\n",
              "      <td>38</td>\n",
              "      <td>47</td>\n",
              "      <td>60</td>\n",
              "      <td>74</td>\n",
              "      <td>54</td>\n",
              "      <td>59</td>\n",
              "      <td>27</td>\n",
              "    </tr>\n",
              "  </tbody>\n",
              "</table>\n",
              "<p>3 rows × 123 columns</p>\n",
              "</div>\n",
              "    <div class=\"colab-df-buttons\">\n",
              "\n",
              "  <div class=\"colab-df-container\">\n",
              "    <button class=\"colab-df-convert\" onclick=\"convertToInteractive('df-4cae094a-268c-4ba4-9d4e-79cf190de38f')\"\n",
              "            title=\"Convert this dataframe to an interactive table.\"\n",
              "            style=\"display:none;\">\n",
              "\n",
              "  <svg xmlns=\"http://www.w3.org/2000/svg\" height=\"24px\" viewBox=\"0 -960 960 960\">\n",
              "    <path d=\"M120-120v-720h720v720H120Zm60-500h600v-160H180v160Zm220 220h160v-160H400v160Zm0 220h160v-160H400v160ZM180-400h160v-160H180v160Zm440 0h160v-160H620v160ZM180-180h160v-160H180v160Zm440 0h160v-160H620v160Z\"/>\n",
              "  </svg>\n",
              "    </button>\n",
              "\n",
              "  <style>\n",
              "    .colab-df-container {\n",
              "      display:flex;\n",
              "      gap: 12px;\n",
              "    }\n",
              "\n",
              "    .colab-df-convert {\n",
              "      background-color: #E8F0FE;\n",
              "      border: none;\n",
              "      border-radius: 50%;\n",
              "      cursor: pointer;\n",
              "      display: none;\n",
              "      fill: #1967D2;\n",
              "      height: 32px;\n",
              "      padding: 0 0 0 0;\n",
              "      width: 32px;\n",
              "    }\n",
              "\n",
              "    .colab-df-convert:hover {\n",
              "      background-color: #E2EBFA;\n",
              "      box-shadow: 0px 1px 2px rgba(60, 64, 67, 0.3), 0px 1px 3px 1px rgba(60, 64, 67, 0.15);\n",
              "      fill: #174EA6;\n",
              "    }\n",
              "\n",
              "    .colab-df-buttons div {\n",
              "      margin-bottom: 4px;\n",
              "    }\n",
              "\n",
              "    [theme=dark] .colab-df-convert {\n",
              "      background-color: #3B4455;\n",
              "      fill: #D2E3FC;\n",
              "    }\n",
              "\n",
              "    [theme=dark] .colab-df-convert:hover {\n",
              "      background-color: #434B5C;\n",
              "      box-shadow: 0px 1px 3px 1px rgba(0, 0, 0, 0.15);\n",
              "      filter: drop-shadow(0px 1px 2px rgba(0, 0, 0, 0.3));\n",
              "      fill: #FFFFFF;\n",
              "    }\n",
              "  </style>\n",
              "\n",
              "    <script>\n",
              "      const buttonEl =\n",
              "        document.querySelector('#df-4cae094a-268c-4ba4-9d4e-79cf190de38f button.colab-df-convert');\n",
              "      buttonEl.style.display =\n",
              "        google.colab.kernel.accessAllowed ? 'block' : 'none';\n",
              "\n",
              "      async function convertToInteractive(key) {\n",
              "        const element = document.querySelector('#df-4cae094a-268c-4ba4-9d4e-79cf190de38f');\n",
              "        const dataTable =\n",
              "          await google.colab.kernel.invokeFunction('convertToInteractive',\n",
              "                                                    [key], {});\n",
              "        if (!dataTable) return;\n",
              "\n",
              "        const docLinkHtml = 'Like what you see? Visit the ' +\n",
              "          '<a target=\"_blank\" href=https://colab.research.google.com/notebooks/data_table.ipynb>data table notebook</a>'\n",
              "          + ' to learn more about interactive tables.';\n",
              "        element.innerHTML = '';\n",
              "        dataTable['output_type'] = 'display_data';\n",
              "        await google.colab.output.renderOutput(dataTable, element);\n",
              "        const docLink = document.createElement('div');\n",
              "        docLink.innerHTML = docLinkHtml;\n",
              "        element.appendChild(docLink);\n",
              "      }\n",
              "    </script>\n",
              "  </div>\n",
              "\n",
              "\n",
              "    <div id=\"df-f66eff85-277b-490c-9418-6840bdd2c8ff\">\n",
              "      <button class=\"colab-df-quickchart\" onclick=\"quickchart('df-f66eff85-277b-490c-9418-6840bdd2c8ff')\"\n",
              "                title=\"Suggest charts\"\n",
              "                style=\"display:none;\">\n",
              "\n",
              "<svg xmlns=\"http://www.w3.org/2000/svg\" height=\"24px\"viewBox=\"0 0 24 24\"\n",
              "     width=\"24px\">\n",
              "    <g>\n",
              "        <path d=\"M19 3H5c-1.1 0-2 .9-2 2v14c0 1.1.9 2 2 2h14c1.1 0 2-.9 2-2V5c0-1.1-.9-2-2-2zM9 17H7v-7h2v7zm4 0h-2V7h2v10zm4 0h-2v-4h2v4z\"/>\n",
              "    </g>\n",
              "</svg>\n",
              "      </button>\n",
              "\n",
              "<style>\n",
              "  .colab-df-quickchart {\n",
              "      --bg-color: #E8F0FE;\n",
              "      --fill-color: #1967D2;\n",
              "      --hover-bg-color: #E2EBFA;\n",
              "      --hover-fill-color: #174EA6;\n",
              "      --disabled-fill-color: #AAA;\n",
              "      --disabled-bg-color: #DDD;\n",
              "  }\n",
              "\n",
              "  [theme=dark] .colab-df-quickchart {\n",
              "      --bg-color: #3B4455;\n",
              "      --fill-color: #D2E3FC;\n",
              "      --hover-bg-color: #434B5C;\n",
              "      --hover-fill-color: #FFFFFF;\n",
              "      --disabled-bg-color: #3B4455;\n",
              "      --disabled-fill-color: #666;\n",
              "  }\n",
              "\n",
              "  .colab-df-quickchart {\n",
              "    background-color: var(--bg-color);\n",
              "    border: none;\n",
              "    border-radius: 50%;\n",
              "    cursor: pointer;\n",
              "    display: none;\n",
              "    fill: var(--fill-color);\n",
              "    height: 32px;\n",
              "    padding: 0;\n",
              "    width: 32px;\n",
              "  }\n",
              "\n",
              "  .colab-df-quickchart:hover {\n",
              "    background-color: var(--hover-bg-color);\n",
              "    box-shadow: 0 1px 2px rgba(60, 64, 67, 0.3), 0 1px 3px 1px rgba(60, 64, 67, 0.15);\n",
              "    fill: var(--button-hover-fill-color);\n",
              "  }\n",
              "\n",
              "  .colab-df-quickchart-complete:disabled,\n",
              "  .colab-df-quickchart-complete:disabled:hover {\n",
              "    background-color: var(--disabled-bg-color);\n",
              "    fill: var(--disabled-fill-color);\n",
              "    box-shadow: none;\n",
              "  }\n",
              "\n",
              "  .colab-df-spinner {\n",
              "    border: 2px solid var(--fill-color);\n",
              "    border-color: transparent;\n",
              "    border-bottom-color: var(--fill-color);\n",
              "    animation:\n",
              "      spin 1s steps(1) infinite;\n",
              "  }\n",
              "\n",
              "  @keyframes spin {\n",
              "    0% {\n",
              "      border-color: transparent;\n",
              "      border-bottom-color: var(--fill-color);\n",
              "      border-left-color: var(--fill-color);\n",
              "    }\n",
              "    20% {\n",
              "      border-color: transparent;\n",
              "      border-left-color: var(--fill-color);\n",
              "      border-top-color: var(--fill-color);\n",
              "    }\n",
              "    30% {\n",
              "      border-color: transparent;\n",
              "      border-left-color: var(--fill-color);\n",
              "      border-top-color: var(--fill-color);\n",
              "      border-right-color: var(--fill-color);\n",
              "    }\n",
              "    40% {\n",
              "      border-color: transparent;\n",
              "      border-right-color: var(--fill-color);\n",
              "      border-top-color: var(--fill-color);\n",
              "    }\n",
              "    60% {\n",
              "      border-color: transparent;\n",
              "      border-right-color: var(--fill-color);\n",
              "    }\n",
              "    80% {\n",
              "      border-color: transparent;\n",
              "      border-right-color: var(--fill-color);\n",
              "      border-bottom-color: var(--fill-color);\n",
              "    }\n",
              "    90% {\n",
              "      border-color: transparent;\n",
              "      border-bottom-color: var(--fill-color);\n",
              "    }\n",
              "  }\n",
              "</style>\n",
              "\n",
              "      <script>\n",
              "        async function quickchart(key) {\n",
              "          const quickchartButtonEl =\n",
              "            document.querySelector('#' + key + ' button');\n",
              "          quickchartButtonEl.disabled = true;  // To prevent multiple clicks.\n",
              "          quickchartButtonEl.classList.add('colab-df-spinner');\n",
              "          try {\n",
              "            const charts = await google.colab.kernel.invokeFunction(\n",
              "                'suggestCharts', [key], {});\n",
              "          } catch (error) {\n",
              "            console.error('Error during call to suggestCharts:', error);\n",
              "          }\n",
              "          quickchartButtonEl.classList.remove('colab-df-spinner');\n",
              "          quickchartButtonEl.classList.add('colab-df-quickchart-complete');\n",
              "        }\n",
              "        (() => {\n",
              "          let quickchartButtonEl =\n",
              "            document.querySelector('#df-f66eff85-277b-490c-9418-6840bdd2c8ff button');\n",
              "          quickchartButtonEl.style.display =\n",
              "            google.colab.kernel.accessAllowed ? 'block' : 'none';\n",
              "        })();\n",
              "      </script>\n",
              "    </div>\n",
              "\n",
              "    </div>\n",
              "  </div>\n"
            ],
            "application/vnd.google.colaboratory.intrinsic+json": {
              "type": "dataframe",
              "variable_name": "df"
            }
          },
          "metadata": {},
          "execution_count": 2
        }
      ]
    },
    {
      "cell_type": "markdown",
      "source": [
        "Pin columns"
      ],
      "metadata": {
        "id": "SAQ9kU5y9Q1S"
      }
    },
    {
      "cell_type": "code",
      "source": [
        "\n",
        "COL_GOLD = \"GC=F Close\"   # Gold (target asset)\n",
        "COL_DXY  = \"DXY Close\"    # U.S. Dollar Index (macro)\n",
        "\n",
        "# Trends: every column ending with \"_trend\"\n",
        "trend_cols = [c for c in df.columns if c.endswith(\"_trend\")]\n",
        "\n",
        "print(\"Gold column:\", COL_GOLD)\n",
        "print(\"DXY column :\", COL_DXY, \"(present:\", COL_DXY in df.columns, \")\")\n",
        "print(\"Trend columns:\", len(trend_cols))\n",
        "print(trend_cols[:12])  # sample\n"
      ],
      "metadata": {
        "colab": {
          "base_uri": "https://localhost:8080/"
        },
        "id": "-bgIUIW-6ugn",
        "outputId": "e68e746a-78da-48ec-e668-4e81dbd52360"
      },
      "execution_count": 3,
      "outputs": [
        {
          "output_type": "stream",
          "name": "stdout",
          "text": [
            "Gold column: GC=F Close\n",
            "DXY column : DXY Close (present: True )\n",
            "Trend columns: 83\n",
            "['usd_trend', 'gold_price_trend', 'bitcoin_trend', 'oil_price_trend', 'chinese_yuan_trend', 'inflation_trend', 'interest_rates_trend', 'stock_market_trend', 'recession_trend', 'economic_growth_trend', 'currency_exchange_trend', 'commodity_prices_trend']\n"
          ]
        }
      ]
    },
    {
      "cell_type": "markdown",
      "source": [
        "Build target: next-day direction of gold (no leakage)"
      ],
      "metadata": {
        "id": "0zYKBChu9bHh"
      }
    },
    {
      "cell_type": "code",
      "source": [
        "# Gold daily return (today vs yesterday)\n",
        "df[\"gold_ret1\"] = df[COL_GOLD].pct_change()\n",
        "\n",
        "# Target = will gold go UP tomorrow? (use shift(-1) so target belongs to today's row)\n",
        "df[\"y_up\"] = (df[\"gold_ret1\"].shift(-1) > 0).astype(int)\n",
        "\n",
        "# Clean initial NaNs\n",
        "data = df.dropna().copy()\n",
        "print(\"Rows after target creation:\", data.shape[0])\n"
      ],
      "metadata": {
        "colab": {
          "base_uri": "https://localhost:8080/"
        },
        "id": "T8gDNASe9bcd",
        "outputId": "83ff0884-2b52-41f0-aaed-a12669ed0bfb"
      },
      "execution_count": 4,
      "outputs": [
        {
          "output_type": "stream",
          "name": "stdout",
          "text": [
            "Rows after target creation: 985\n"
          ]
        }
      ]
    },
    {
      "cell_type": "markdown",
      "source": [
        "Create feature sets\n",
        "\n",
        "Baseline: numeric engineered columns (includes returns/vols/RSI/etc. already in your file) but excludes raw target helpers.\n",
        "\n",
        "Extended: Baseline + all _trend columns."
      ],
      "metadata": {
        "id": "Oet9-nL79o1q"
      }
    },
    {
      "cell_type": "code",
      "source": [
        "# Columns to exclude from features\n",
        "exclude_cols = {COL_GOLD, \"gold_ret1\", \"y_up\"}\n",
        "\n",
        "# Numeric-only columns\n",
        "numeric_cols = [c for c in data.columns if data[c].dtype != \"O\"]\n",
        "\n",
        "# Baseline = all numeric features except excluded ones\n",
        "baseline_cols = [c for c in numeric_cols if c not in exclude_cols]\n",
        "\n",
        "# Extended = baseline + trend columns (ensure they exist)\n",
        "extended_cols = sorted(set(baseline_cols).union(trend_cols))\n",
        "\n",
        "print(\"Baseline feature count:\", len(baseline_cols))\n",
        "print(\"Extended feature count:\", len(extended_cols))\n"
      ],
      "metadata": {
        "colab": {
          "base_uri": "https://localhost:8080/"
        },
        "id": "0abF9ksc9qOl",
        "outputId": "6a223544-0e2d-4190-fc13-e7a9245d2c7e"
      },
      "execution_count": 5,
      "outputs": [
        {
          "output_type": "stream",
          "name": "stdout",
          "text": [
            "Baseline feature count: 122\n",
            "Extended feature count: 122\n"
          ]
        }
      ]
    },
    {
      "cell_type": "markdown",
      "source": [
        "Walk-forward evaluation helper (expanding window)"
      ],
      "metadata": {
        "id": "gsSWZHps90lv"
      }
    },
    {
      "cell_type": "code",
      "source": [
        "from sklearn.preprocessing import StandardScaler\n",
        "from sklearn.linear_model import LogisticRegression\n",
        "from sklearn.ensemble import RandomForestClassifier\n",
        "!pip -q install xgboost\n",
        "from xgboost import XGBClassifier\n",
        "from sklearn.metrics import accuracy_score, f1_score, roc_auc_score\n",
        "\n",
        "def walk_forward_eval(df_in, feature_cols, model, start_index=500):\n",
        "    \"\"\"\n",
        "    Expanding-window walk-forward:\n",
        "      - Train on [0 : i) and predict on [i]\n",
        "      - Scale on train only to avoid leakage\n",
        "    Returns: (predictions_df, metrics_dict)\n",
        "    \"\"\"\n",
        "    df_in = df_in.copy()\n",
        "    X_all = df_in[feature_cols].values\n",
        "    y_all = df_in[\"y_up\"].values\n",
        "    idxs  = df_in.index\n",
        "\n",
        "    scaler = StandardScaler(with_mean=True, with_std=True)\n",
        "\n",
        "    preds, probs, trues, dates = [], [], [], []\n",
        "    for i in range(start_index, len(df_in)):\n",
        "        X_train, y_train = X_all[:i], y_all[:i]\n",
        "        X_test,  y_test  = X_all[i:i+1], y_all[i]\n",
        "\n",
        "        X_train_s = scaler.fit_transform(X_train)\n",
        "        X_test_s  = scaler.transform(X_test)\n",
        "\n",
        "        model.fit(X_train_s, y_train)\n",
        "        p = model.predict_proba(X_test_s)[0,1]\n",
        "        yhat = int(p >= 0.5)\n",
        "\n",
        "        preds.append(yhat)\n",
        "        probs.append(p)\n",
        "        trues.append(int(y_test))\n",
        "        dates.append(idxs[i])\n",
        "\n",
        "    out = pd.DataFrame({\"date\": dates, \"y_true\": trues, \"y_pred\": preds, \"prob_up\": probs}).set_index(\"date\")\n",
        "    acc = accuracy_score(out[\"y_true\"], out[\"y_pred\"])\n",
        "    f1  = f1_score(out[\"y_true\"], out[\"y_pred\"])\n",
        "    try:\n",
        "        auc = roc_auc_score(out[\"y_true\"], out[\"prob_up\"])\n",
        "    except Exception:\n",
        "        auc = np.nan\n",
        "    return out, {\"acc\": acc, \"f1\": f1, \"auc\": auc}\n"
      ],
      "metadata": {
        "id": "J--hS7Vs91el"
      },
      "execution_count": 6,
      "outputs": []
    },
    {
      "cell_type": "markdown",
      "source": [
        "Baseline Features & Models"
      ],
      "metadata": {
        "id": "YIqN0CUg-BV9"
      }
    },
    {
      "cell_type": "code",
      "source": [
        "from sklearn.linear_model import LogisticRegression\n",
        "from sklearn.ensemble import RandomForestClassifier\n",
        "!pip -q install xgboost\n",
        "from xgboost import XGBClassifier\n",
        "\n",
        "# Define models to test\n",
        "models = {\n",
        "    \"LR\":  LogisticRegression(max_iter=500),\n",
        "    \"RF\":  RandomForestClassifier(n_estimators=300, random_state=42, n_jobs=-1),\n",
        "    \"XGB\": XGBClassifier(\n",
        "        n_estimators=500, max_depth=4, learning_rate=0.05,\n",
        "        subsample=0.9, colsample_bytree=0.9, reg_lambda=1.0,\n",
        "        tree_method=\"hist\", random_state=42\n",
        "    )\n",
        "}\n"
      ],
      "metadata": {
        "id": "K2vJlzK3N8kc"
      },
      "execution_count": 13,
      "outputs": []
    },
    {
      "cell_type": "code",
      "source": [
        "# Define modelling dataset\n",
        "min_date, max_date = df.index.min(), df.index.max()\n",
        "print(f\"Data range available: {min_date.date()} → {max_date.date()}\")\n",
        "\n",
        "START_DATE = min_date   # full range, or \"2017-01-01\" for faster debug\n",
        "df_mod = data.loc[data.index >= START_DATE].copy()\n",
        "\n",
        "print(f\"Using {df_mod.shape[0]} rows for modelling ({df_mod.index.min().date()} → {df_mod.index.max().date()})\")\n"
      ],
      "metadata": {
        "colab": {
          "base_uri": "https://localhost:8080/"
        },
        "id": "5TVWPA80NlqE",
        "outputId": "185c79b3-f93d-4a29-b8ae-964a6b191e0d"
      },
      "execution_count": 14,
      "outputs": [
        {
          "output_type": "stream",
          "name": "stdout",
          "text": [
            "Data range available: 2015-09-08 → 2025-09-05\n",
            "Using 985 rows for modelling (2016-03-08 → 2020-05-18)\n"
          ]
        }
      ]
    },
    {
      "cell_type": "code",
      "source": [
        "# Use only price/technical features, no *_trend columns\n",
        "exclude_cols = {\"GC=F Close\", \"gold_ret1\", \"y_up\"} | set(trend_cols)  # adjust if needed\n",
        "baseline_cols = [c for c in df_mod.columns if df_mod[c].dtype != \"O\" and c not in exclude_cols]\n",
        "print(f\"[6A] Baseline features: {len(baseline_cols)}\")\n",
        "\n",
        "results_baseline = {}\n",
        "for name, mdl in models.items():  # models = {\"LR\":..., \"RF\":..., \"XGB\":...}\n",
        "    out_b, m_b = walk_forward_eval(df_mod, baseline_cols, mdl)\n",
        "    results_baseline[name] = (out_b, m_b)\n",
        "    print(f\"BASE {name} | ACC: {m_b['acc']:.3f} | F1: {m_b['f1']:.3f} | AUC: {m_b['auc']:.3f}\")\n"
      ],
      "metadata": {
        "colab": {
          "base_uri": "https://localhost:8080/"
        },
        "id": "eaTi5-cs-B3-",
        "outputId": "b944988d-6f6c-42c2-b430-b81c937a8430"
      },
      "execution_count": 15,
      "outputs": [
        {
          "output_type": "stream",
          "name": "stdout",
          "text": [
            "[6A] Baseline features: 39\n",
            "BASE LR | ACC: 0.503 | F1: 0.411 | AUC: 0.496\n",
            "BASE RF | ACC: 0.501 | F1: 0.442 | AUC: 0.487\n",
            "BASE XGB | ACC: 0.509 | F1: 0.485 | AUC: 0.503\n"
          ]
        }
      ]
    },
    {
      "cell_type": "code",
      "source": [],
      "metadata": {
        "id": "JWk2RxClNiJ0"
      },
      "execution_count": 8,
      "outputs": []
    }
  ]
}