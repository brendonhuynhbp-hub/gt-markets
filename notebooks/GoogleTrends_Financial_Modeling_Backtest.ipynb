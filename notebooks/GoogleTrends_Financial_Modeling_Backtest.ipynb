{
  "nbformat": 4,
  "nbformat_minor": 0,
  "metadata": {
    "colab": {
      "provenance": [],
      "name": "GoogleTrends_Financial_Modeling_Backtest.ipynb",
      "authorship_tag": "ABX9TyO96qfPixEjIb6sMUmVDgpV",
      "include_colab_link": true
    },
    "kernelspec": {
      "name": "python3",
      "display_name": "Python 3"
    },
    "language_info": {
      "name": "python"
    }
  },
  "cells": [
    {
      "cell_type": "markdown",
      "metadata": {
        "id": "view-in-github",
        "colab_type": "text"
      },
      "source": [
        "<a href=\"https://colab.research.google.com/github/brendonhuynhbp-hub/gt-markets/blob/main/notebooks/GoogleTrends_Financial_Modeling_Backtest.ipynb\" target=\"_parent\"><img src=\"https://colab.research.google.com/assets/colab-badge.svg\" alt=\"Open In Colab\"/></a>"
      ]
    },
    {
      "cell_type": "markdown",
      "source": [
        "Setup: Mount Drive + Paths"
      ],
      "metadata": {
        "id": "AbwJ76zT6Jn3"
      }
    },
    {
      "cell_type": "code",
      "execution_count": 19,
      "metadata": {
        "colab": {
          "base_uri": "https://localhost:8080/"
        },
        "id": "GRpMJvOO1q2r",
        "outputId": "463b60f5-efb7-439c-9418-e178582060ff"
      },
      "outputs": [
        {
          "output_type": "stream",
          "name": "stdout",
          "text": [
            "Drive already mounted at /content/drive; to attempt to forcibly remount, call drive.mount(\"/content/drive\", force_remount=True).\n",
            "Using: /content/drive/MyDrive/gt-markets/data/processed/merged_financial_trends_data_2025-09-07.csv\n"
          ]
        }
      ],
      "source": [
        "# mount Google Drive\n",
        "from google.colab import drive\n",
        "drive.mount('/content/drive')\n",
        "\n",
        "# Project paths\n",
        "from pathlib import Path\n",
        "PROJECT_DIR = Path(\"/content/drive/MyDrive/gt-markets\")\n",
        "DATA_DIR    = PROJECT_DIR / \"data\" / \"processed\"\n",
        "OUT_DIR     = PROJECT_DIR / \"outputs\"\n",
        "OUT_DIR.mkdir(parents=True, exist_ok=True)\n",
        "\n",
        "# Input file prepared by James\n",
        "MERGED_FILE = DATA_DIR / \"merged_financial_trends_data_2025-09-07.csv\"\n",
        "assert MERGED_FILE.exists(), f\"File not found: {MERGED_FILE}\"\n",
        "print(\"Using:\", MERGED_FILE)\n"
      ]
    },
    {
      "cell_type": "markdown",
      "source": [
        "Load merged table (prices + trends) and set Date index"
      ],
      "metadata": {
        "id": "E8LdJf8P6Ioj"
      }
    },
    {
      "cell_type": "code",
      "source": [
        "import pandas as pd\n",
        "import numpy as np\n",
        "\n",
        "df = pd.read_csv(MERGED_FILE)\n",
        "# Ensure Date is parsed and becomes the index\n",
        "assert \"Date\" in df.columns, \"Expected a 'Date' column in the CSV.\"\n",
        "df[\"Date\"] = pd.to_datetime(df[\"Date\"], errors=\"coerce\")\n",
        "df = df.dropna(subset=[\"Date\"]).set_index(\"Date\").sort_index()\n",
        "\n",
        "print(df.shape)\n",
        "df.head(3)\n"
      ],
      "metadata": {
        "colab": {
          "base_uri": "https://localhost:8080/",
          "height": 311
        },
        "id": "fWz04Kc054Xb",
        "outputId": "578275d1-3069-4797-c134-d013b3a23492"
      },
      "execution_count": 20,
      "outputs": [
        {
          "output_type": "stream",
          "name": "stdout",
          "text": [
            "(2609, 170)\n"
          ]
        },
        {
          "output_type": "execute_result",
          "data": {
            "text/plain": [
              "            BTC-USD Close  CL=F Close   DXY Close   GC=F Close  \\\n",
              "Date                                                             \n",
              "2015-09-08     243.606995   45.939999  930.440002  1120.400024   \n",
              "2015-09-09     238.167999   44.150002  938.400024  1102.199951   \n",
              "2015-09-10     238.477005   45.919998  913.510010  1109.500000   \n",
              "\n",
              "            USDCNY=X Close  BTC-USD Open  CL=F Open    DXY Open    GC=F Open  \\\n",
              "Date                                                                           \n",
              "2015-09-08          6.3559    239.845993  45.820000  930.440002  1119.800049   \n",
              "2015-09-09          6.3572    243.414993  45.790001  938.400024  1123.500000   \n",
              "2015-09-10          6.3678    238.335999  44.160000  913.510010  1107.300049   \n",
              "\n",
              "            USDCNY=X Open  ...  abandon_trend  exploration_trend  \\\n",
              "Date                       ...                                     \n",
              "2015-09-08         6.3559  ...             81                 89   \n",
              "2015-09-09         6.3572  ...             88                 88   \n",
              "2015-09-10         6.3678  ...             84                 91   \n",
              "\n",
              "            letter_trend  favour_trend  cold_trend  sketch_trend  \\\n",
              "Date                                                               \n",
              "2015-09-08            90            86          64            71   \n",
              "2015-09-09            87            82          60            76   \n",
              "2015-09-10            91            83          57            76   \n",
              "\n",
              "            danger_trend  joy_trend  translate_trend  create_trend  \n",
              "Date                                                                \n",
              "2015-09-08            76         25               91            86  \n",
              "2015-09-09            69         26               91            90  \n",
              "2015-09-10            76         27               92            84  \n",
              "\n",
              "[3 rows x 170 columns]"
            ],
            "text/html": [
              "\n",
              "  <div id=\"df-0f5bb5f8-1f5d-4628-9688-f7d9c89d51e6\" class=\"colab-df-container\">\n",
              "    <div>\n",
              "<style scoped>\n",
              "    .dataframe tbody tr th:only-of-type {\n",
              "        vertical-align: middle;\n",
              "    }\n",
              "\n",
              "    .dataframe tbody tr th {\n",
              "        vertical-align: top;\n",
              "    }\n",
              "\n",
              "    .dataframe thead th {\n",
              "        text-align: right;\n",
              "    }\n",
              "</style>\n",
              "<table border=\"1\" class=\"dataframe\">\n",
              "  <thead>\n",
              "    <tr style=\"text-align: right;\">\n",
              "      <th></th>\n",
              "      <th>BTC-USD Close</th>\n",
              "      <th>CL=F Close</th>\n",
              "      <th>DXY Close</th>\n",
              "      <th>GC=F Close</th>\n",
              "      <th>USDCNY=X Close</th>\n",
              "      <th>BTC-USD Open</th>\n",
              "      <th>CL=F Open</th>\n",
              "      <th>DXY Open</th>\n",
              "      <th>GC=F Open</th>\n",
              "      <th>USDCNY=X Open</th>\n",
              "      <th>...</th>\n",
              "      <th>abandon_trend</th>\n",
              "      <th>exploration_trend</th>\n",
              "      <th>letter_trend</th>\n",
              "      <th>favour_trend</th>\n",
              "      <th>cold_trend</th>\n",
              "      <th>sketch_trend</th>\n",
              "      <th>danger_trend</th>\n",
              "      <th>joy_trend</th>\n",
              "      <th>translate_trend</th>\n",
              "      <th>create_trend</th>\n",
              "    </tr>\n",
              "    <tr>\n",
              "      <th>Date</th>\n",
              "      <th></th>\n",
              "      <th></th>\n",
              "      <th></th>\n",
              "      <th></th>\n",
              "      <th></th>\n",
              "      <th></th>\n",
              "      <th></th>\n",
              "      <th></th>\n",
              "      <th></th>\n",
              "      <th></th>\n",
              "      <th></th>\n",
              "      <th></th>\n",
              "      <th></th>\n",
              "      <th></th>\n",
              "      <th></th>\n",
              "      <th></th>\n",
              "      <th></th>\n",
              "      <th></th>\n",
              "      <th></th>\n",
              "      <th></th>\n",
              "      <th></th>\n",
              "    </tr>\n",
              "  </thead>\n",
              "  <tbody>\n",
              "    <tr>\n",
              "      <th>2015-09-08</th>\n",
              "      <td>243.606995</td>\n",
              "      <td>45.939999</td>\n",
              "      <td>930.440002</td>\n",
              "      <td>1120.400024</td>\n",
              "      <td>6.3559</td>\n",
              "      <td>239.845993</td>\n",
              "      <td>45.820000</td>\n",
              "      <td>930.440002</td>\n",
              "      <td>1119.800049</td>\n",
              "      <td>6.3559</td>\n",
              "      <td>...</td>\n",
              "      <td>81</td>\n",
              "      <td>89</td>\n",
              "      <td>90</td>\n",
              "      <td>86</td>\n",
              "      <td>64</td>\n",
              "      <td>71</td>\n",
              "      <td>76</td>\n",
              "      <td>25</td>\n",
              "      <td>91</td>\n",
              "      <td>86</td>\n",
              "    </tr>\n",
              "    <tr>\n",
              "      <th>2015-09-09</th>\n",
              "      <td>238.167999</td>\n",
              "      <td>44.150002</td>\n",
              "      <td>938.400024</td>\n",
              "      <td>1102.199951</td>\n",
              "      <td>6.3572</td>\n",
              "      <td>243.414993</td>\n",
              "      <td>45.790001</td>\n",
              "      <td>938.400024</td>\n",
              "      <td>1123.500000</td>\n",
              "      <td>6.3572</td>\n",
              "      <td>...</td>\n",
              "      <td>88</td>\n",
              "      <td>88</td>\n",
              "      <td>87</td>\n",
              "      <td>82</td>\n",
              "      <td>60</td>\n",
              "      <td>76</td>\n",
              "      <td>69</td>\n",
              "      <td>26</td>\n",
              "      <td>91</td>\n",
              "      <td>90</td>\n",
              "    </tr>\n",
              "    <tr>\n",
              "      <th>2015-09-10</th>\n",
              "      <td>238.477005</td>\n",
              "      <td>45.919998</td>\n",
              "      <td>913.510010</td>\n",
              "      <td>1109.500000</td>\n",
              "      <td>6.3678</td>\n",
              "      <td>238.335999</td>\n",
              "      <td>44.160000</td>\n",
              "      <td>913.510010</td>\n",
              "      <td>1107.300049</td>\n",
              "      <td>6.3678</td>\n",
              "      <td>...</td>\n",
              "      <td>84</td>\n",
              "      <td>91</td>\n",
              "      <td>91</td>\n",
              "      <td>83</td>\n",
              "      <td>57</td>\n",
              "      <td>76</td>\n",
              "      <td>76</td>\n",
              "      <td>27</td>\n",
              "      <td>92</td>\n",
              "      <td>84</td>\n",
              "    </tr>\n",
              "  </tbody>\n",
              "</table>\n",
              "<p>3 rows × 170 columns</p>\n",
              "</div>\n",
              "    <div class=\"colab-df-buttons\">\n",
              "\n",
              "  <div class=\"colab-df-container\">\n",
              "    <button class=\"colab-df-convert\" onclick=\"convertToInteractive('df-0f5bb5f8-1f5d-4628-9688-f7d9c89d51e6')\"\n",
              "            title=\"Convert this dataframe to an interactive table.\"\n",
              "            style=\"display:none;\">\n",
              "\n",
              "  <svg xmlns=\"http://www.w3.org/2000/svg\" height=\"24px\" viewBox=\"0 -960 960 960\">\n",
              "    <path d=\"M120-120v-720h720v720H120Zm60-500h600v-160H180v160Zm220 220h160v-160H400v160Zm0 220h160v-160H400v160ZM180-400h160v-160H180v160Zm440 0h160v-160H620v160ZM180-180h160v-160H180v160Zm440 0h160v-160H620v160Z\"/>\n",
              "  </svg>\n",
              "    </button>\n",
              "\n",
              "  <style>\n",
              "    .colab-df-container {\n",
              "      display:flex;\n",
              "      gap: 12px;\n",
              "    }\n",
              "\n",
              "    .colab-df-convert {\n",
              "      background-color: #E8F0FE;\n",
              "      border: none;\n",
              "      border-radius: 50%;\n",
              "      cursor: pointer;\n",
              "      display: none;\n",
              "      fill: #1967D2;\n",
              "      height: 32px;\n",
              "      padding: 0 0 0 0;\n",
              "      width: 32px;\n",
              "    }\n",
              "\n",
              "    .colab-df-convert:hover {\n",
              "      background-color: #E2EBFA;\n",
              "      box-shadow: 0px 1px 2px rgba(60, 64, 67, 0.3), 0px 1px 3px 1px rgba(60, 64, 67, 0.15);\n",
              "      fill: #174EA6;\n",
              "    }\n",
              "\n",
              "    .colab-df-buttons div {\n",
              "      margin-bottom: 4px;\n",
              "    }\n",
              "\n",
              "    [theme=dark] .colab-df-convert {\n",
              "      background-color: #3B4455;\n",
              "      fill: #D2E3FC;\n",
              "    }\n",
              "\n",
              "    [theme=dark] .colab-df-convert:hover {\n",
              "      background-color: #434B5C;\n",
              "      box-shadow: 0px 1px 3px 1px rgba(0, 0, 0, 0.15);\n",
              "      filter: drop-shadow(0px 1px 2px rgba(0, 0, 0, 0.3));\n",
              "      fill: #FFFFFF;\n",
              "    }\n",
              "  </style>\n",
              "\n",
              "    <script>\n",
              "      const buttonEl =\n",
              "        document.querySelector('#df-0f5bb5f8-1f5d-4628-9688-f7d9c89d51e6 button.colab-df-convert');\n",
              "      buttonEl.style.display =\n",
              "        google.colab.kernel.accessAllowed ? 'block' : 'none';\n",
              "\n",
              "      async function convertToInteractive(key) {\n",
              "        const element = document.querySelector('#df-0f5bb5f8-1f5d-4628-9688-f7d9c89d51e6');\n",
              "        const dataTable =\n",
              "          await google.colab.kernel.invokeFunction('convertToInteractive',\n",
              "                                                    [key], {});\n",
              "        if (!dataTable) return;\n",
              "\n",
              "        const docLinkHtml = 'Like what you see? Visit the ' +\n",
              "          '<a target=\"_blank\" href=https://colab.research.google.com/notebooks/data_table.ipynb>data table notebook</a>'\n",
              "          + ' to learn more about interactive tables.';\n",
              "        element.innerHTML = '';\n",
              "        dataTable['output_type'] = 'display_data';\n",
              "        await google.colab.output.renderOutput(dataTable, element);\n",
              "        const docLink = document.createElement('div');\n",
              "        docLink.innerHTML = docLinkHtml;\n",
              "        element.appendChild(docLink);\n",
              "      }\n",
              "    </script>\n",
              "  </div>\n",
              "\n",
              "\n",
              "    <div id=\"df-063f4bac-a3f8-4b56-8c35-9649f3496a6b\">\n",
              "      <button class=\"colab-df-quickchart\" onclick=\"quickchart('df-063f4bac-a3f8-4b56-8c35-9649f3496a6b')\"\n",
              "                title=\"Suggest charts\"\n",
              "                style=\"display:none;\">\n",
              "\n",
              "<svg xmlns=\"http://www.w3.org/2000/svg\" height=\"24px\"viewBox=\"0 0 24 24\"\n",
              "     width=\"24px\">\n",
              "    <g>\n",
              "        <path d=\"M19 3H5c-1.1 0-2 .9-2 2v14c0 1.1.9 2 2 2h14c1.1 0 2-.9 2-2V5c0-1.1-.9-2-2-2zM9 17H7v-7h2v7zm4 0h-2V7h2v10zm4 0h-2v-4h2v4z\"/>\n",
              "    </g>\n",
              "</svg>\n",
              "      </button>\n",
              "\n",
              "<style>\n",
              "  .colab-df-quickchart {\n",
              "      --bg-color: #E8F0FE;\n",
              "      --fill-color: #1967D2;\n",
              "      --hover-bg-color: #E2EBFA;\n",
              "      --hover-fill-color: #174EA6;\n",
              "      --disabled-fill-color: #AAA;\n",
              "      --disabled-bg-color: #DDD;\n",
              "  }\n",
              "\n",
              "  [theme=dark] .colab-df-quickchart {\n",
              "      --bg-color: #3B4455;\n",
              "      --fill-color: #D2E3FC;\n",
              "      --hover-bg-color: #434B5C;\n",
              "      --hover-fill-color: #FFFFFF;\n",
              "      --disabled-bg-color: #3B4455;\n",
              "      --disabled-fill-color: #666;\n",
              "  }\n",
              "\n",
              "  .colab-df-quickchart {\n",
              "    background-color: var(--bg-color);\n",
              "    border: none;\n",
              "    border-radius: 50%;\n",
              "    cursor: pointer;\n",
              "    display: none;\n",
              "    fill: var(--fill-color);\n",
              "    height: 32px;\n",
              "    padding: 0;\n",
              "    width: 32px;\n",
              "  }\n",
              "\n",
              "  .colab-df-quickchart:hover {\n",
              "    background-color: var(--hover-bg-color);\n",
              "    box-shadow: 0 1px 2px rgba(60, 64, 67, 0.3), 0 1px 3px 1px rgba(60, 64, 67, 0.15);\n",
              "    fill: var(--button-hover-fill-color);\n",
              "  }\n",
              "\n",
              "  .colab-df-quickchart-complete:disabled,\n",
              "  .colab-df-quickchart-complete:disabled:hover {\n",
              "    background-color: var(--disabled-bg-color);\n",
              "    fill: var(--disabled-fill-color);\n",
              "    box-shadow: none;\n",
              "  }\n",
              "\n",
              "  .colab-df-spinner {\n",
              "    border: 2px solid var(--fill-color);\n",
              "    border-color: transparent;\n",
              "    border-bottom-color: var(--fill-color);\n",
              "    animation:\n",
              "      spin 1s steps(1) infinite;\n",
              "  }\n",
              "\n",
              "  @keyframes spin {\n",
              "    0% {\n",
              "      border-color: transparent;\n",
              "      border-bottom-color: var(--fill-color);\n",
              "      border-left-color: var(--fill-color);\n",
              "    }\n",
              "    20% {\n",
              "      border-color: transparent;\n",
              "      border-left-color: var(--fill-color);\n",
              "      border-top-color: var(--fill-color);\n",
              "    }\n",
              "    30% {\n",
              "      border-color: transparent;\n",
              "      border-left-color: var(--fill-color);\n",
              "      border-top-color: var(--fill-color);\n",
              "      border-right-color: var(--fill-color);\n",
              "    }\n",
              "    40% {\n",
              "      border-color: transparent;\n",
              "      border-right-color: var(--fill-color);\n",
              "      border-top-color: var(--fill-color);\n",
              "    }\n",
              "    60% {\n",
              "      border-color: transparent;\n",
              "      border-right-color: var(--fill-color);\n",
              "    }\n",
              "    80% {\n",
              "      border-color: transparent;\n",
              "      border-right-color: var(--fill-color);\n",
              "      border-bottom-color: var(--fill-color);\n",
              "    }\n",
              "    90% {\n",
              "      border-color: transparent;\n",
              "      border-bottom-color: var(--fill-color);\n",
              "    }\n",
              "  }\n",
              "</style>\n",
              "\n",
              "      <script>\n",
              "        async function quickchart(key) {\n",
              "          const quickchartButtonEl =\n",
              "            document.querySelector('#' + key + ' button');\n",
              "          quickchartButtonEl.disabled = true;  // To prevent multiple clicks.\n",
              "          quickchartButtonEl.classList.add('colab-df-spinner');\n",
              "          try {\n",
              "            const charts = await google.colab.kernel.invokeFunction(\n",
              "                'suggestCharts', [key], {});\n",
              "          } catch (error) {\n",
              "            console.error('Error during call to suggestCharts:', error);\n",
              "          }\n",
              "          quickchartButtonEl.classList.remove('colab-df-spinner');\n",
              "          quickchartButtonEl.classList.add('colab-df-quickchart-complete');\n",
              "        }\n",
              "        (() => {\n",
              "          let quickchartButtonEl =\n",
              "            document.querySelector('#df-063f4bac-a3f8-4b56-8c35-9649f3496a6b button');\n",
              "          quickchartButtonEl.style.display =\n",
              "            google.colab.kernel.accessAllowed ? 'block' : 'none';\n",
              "        })();\n",
              "      </script>\n",
              "    </div>\n",
              "\n",
              "    </div>\n",
              "  </div>\n"
            ],
            "application/vnd.google.colaboratory.intrinsic+json": {
              "type": "dataframe",
              "variable_name": "df"
            }
          },
          "metadata": {},
          "execution_count": 20
        }
      ]
    },
    {
      "cell_type": "markdown",
      "source": [
        "Pin columns"
      ],
      "metadata": {
        "id": "SAQ9kU5y9Q1S"
      }
    },
    {
      "cell_type": "code",
      "source": [
        "\n",
        "COL_GOLD = \"GC=F Close\"   # Gold (target asset)\n",
        "COL_DXY  = \"DXY Close\"    # U.S. Dollar Index (macro)\n",
        "\n",
        "# Trends: every column ending with \"_trend\"\n",
        "trend_cols = [c for c in df.columns if c.endswith(\"_trend\")]\n",
        "\n",
        "print(\"Gold column:\", COL_GOLD)\n",
        "print(\"DXY column :\", COL_DXY, \"(present:\", COL_DXY in df.columns, \")\")\n",
        "print(\"Trend columns:\", len(trend_cols))\n",
        "print(trend_cols[:12])  # sample\n"
      ],
      "metadata": {
        "colab": {
          "base_uri": "https://localhost:8080/"
        },
        "id": "-bgIUIW-6ugn",
        "outputId": "9c937713-4a99-4f14-f464-10ed2233177d"
      },
      "execution_count": 21,
      "outputs": [
        {
          "output_type": "stream",
          "name": "stdout",
          "text": [
            "Gold column: GC=F Close\n",
            "DXY column : DXY Close (present: True )\n",
            "Trend columns: 129\n",
            "['usd_trend', 'gold_price_trend', 'bitcoin_trend', 'oil_price_trend', 'chinese_yuan_trend', 'inflation_trend', 'interest_rates_trend', 'stock_market_trend', 'recession_trend', 'economic_growth_trend', 'currency_exchange_trend', 'commodity_prices_trend']\n"
          ]
        }
      ]
    },
    {
      "cell_type": "markdown",
      "source": [
        "Build target: next-day direction of gold (no leakage)"
      ],
      "metadata": {
        "id": "0zYKBChu9bHh"
      }
    },
    {
      "cell_type": "code",
      "source": [
        "# Gold daily return (today vs yesterday)\n",
        "df[\"gold_ret1\"] = df[COL_GOLD].pct_change()\n",
        "\n",
        "# Target = will gold go UP tomorrow? (use shift(-1) so target belongs to today's row)\n",
        "df[\"y_up\"] = (df[\"gold_ret1\"].shift(-1) > 0).astype(int)\n",
        "\n",
        "# Clean initial NaNs\n",
        "data = df.dropna().copy()\n",
        "print(\"Rows after target creation:\", data.shape[0])\n"
      ],
      "metadata": {
        "colab": {
          "base_uri": "https://localhost:8080/"
        },
        "id": "T8gDNASe9bcd",
        "outputId": "f244b485-9416-458a-a240-a3bcf87efc42"
      },
      "execution_count": 22,
      "outputs": [
        {
          "output_type": "stream",
          "name": "stdout",
          "text": [
            "Rows after target creation: 985\n"
          ]
        }
      ]
    },
    {
      "cell_type": "markdown",
      "source": [
        "Create feature sets\n",
        "\n",
        "Baseline: numeric engineered columns (includes returns/vols/RSI/etc. already in your file) but excludes raw target helpers.\n",
        "\n",
        "Extended: Baseline + all _trend columns."
      ],
      "metadata": {
        "id": "Oet9-nL79o1q"
      }
    },
    {
      "cell_type": "code",
      "source": [
        "# --- Columns to exclude from features ---\n",
        "exclude_cols = {COL_GOLD, \"gold_ret1\", \"y_up\"}\n",
        "\n",
        "# All numeric columns\n",
        "numeric_cols = [c for c in data.columns if data[c].dtype != \"O\"]\n",
        "\n",
        "# Identify trend columns explicitly (all *_trend columns)\n",
        "trend_cols = [c for c in data.columns if c.endswith(\"_trend\")]\n",
        "\n",
        "# Baseline = all numeric features except excluded ones AND trend columns\n",
        "baseline_cols = [c for c in numeric_cols if c not in exclude_cols and c not in trend_cols]\n",
        "\n",
        "# Extended = baseline + trend columns\n",
        "extended_cols = baseline_cols + trend_cols\n",
        "\n",
        "print(\"Baseline feature count:\", len(baseline_cols))\n",
        "print(\"Extended feature count:\", len(extended_cols))\n"
      ],
      "metadata": {
        "colab": {
          "base_uri": "https://localhost:8080/"
        },
        "id": "0abF9ksc9qOl",
        "outputId": "c6a42e3e-f7ae-4427-e750-42bd4375e89e"
      },
      "execution_count": 23,
      "outputs": [
        {
          "output_type": "stream",
          "name": "stdout",
          "text": [
            "Baseline feature count: 40\n",
            "Extended feature count: 169\n"
          ]
        }
      ]
    },
    {
      "cell_type": "markdown",
      "source": [
        "Walk-forward evaluation helper (expanding window)"
      ],
      "metadata": {
        "id": "gsSWZHps90lv"
      }
    },
    {
      "cell_type": "code",
      "source": [
        "from sklearn.preprocessing import StandardScaler\n",
        "from sklearn.linear_model import LogisticRegression\n",
        "from sklearn.ensemble import RandomForestClassifier\n",
        "!pip -q install xgboost\n",
        "from xgboost import XGBClassifier\n",
        "from sklearn.metrics import accuracy_score, f1_score, roc_auc_score\n",
        "\n",
        "def walk_forward_eval(df_in, feature_cols, model, start_index=500):\n",
        "    \"\"\"\n",
        "    Expanding-window walk-forward:\n",
        "      - Train on [0 : i) and predict on [i]\n",
        "      - Scale on train only to avoid leakage\n",
        "    Returns: (predictions_df, metrics_dict)\n",
        "    \"\"\"\n",
        "    df_in = df_in.copy()\n",
        "    X_all = df_in[feature_cols].values\n",
        "    y_all = df_in[\"y_up\"].values\n",
        "    idxs  = df_in.index\n",
        "\n",
        "    scaler = StandardScaler(with_mean=True, with_std=True)\n",
        "\n",
        "    preds, probs, trues, dates = [], [], [], []\n",
        "    for i in range(start_index, len(df_in)):\n",
        "        X_train, y_train = X_all[:i], y_all[:i]\n",
        "        X_test,  y_test  = X_all[i:i+1], y_all[i]\n",
        "\n",
        "        X_train_s = scaler.fit_transform(X_train)\n",
        "        X_test_s  = scaler.transform(X_test)\n",
        "\n",
        "        model.fit(X_train_s, y_train)\n",
        "        p = model.predict_proba(X_test_s)[0,1]\n",
        "        yhat = int(p >= 0.5)\n",
        "\n",
        "        preds.append(yhat)\n",
        "        probs.append(p)\n",
        "        trues.append(int(y_test))\n",
        "        dates.append(idxs[i])\n",
        "\n",
        "    out = pd.DataFrame({\"date\": dates, \"y_true\": trues, \"y_pred\": preds, \"prob_up\": probs}).set_index(\"date\")\n",
        "    acc = accuracy_score(out[\"y_true\"], out[\"y_pred\"])\n",
        "    f1  = f1_score(out[\"y_true\"], out[\"y_pred\"])\n",
        "    try:\n",
        "        auc = roc_auc_score(out[\"y_true\"], out[\"prob_up\"])\n",
        "    except Exception:\n",
        "        auc = np.nan\n",
        "    return out, {\"acc\": acc, \"f1\": f1, \"auc\": auc}\n"
      ],
      "metadata": {
        "id": "J--hS7Vs91el"
      },
      "execution_count": 24,
      "outputs": []
    },
    {
      "cell_type": "markdown",
      "source": [
        "Baseline Features & Models"
      ],
      "metadata": {
        "id": "YIqN0CUg-BV9"
      }
    },
    {
      "cell_type": "code",
      "source": [
        "from sklearn.linear_model import LogisticRegression\n",
        "from sklearn.ensemble import RandomForestClassifier\n",
        "!pip -q install xgboost\n",
        "from xgboost import XGBClassifier\n",
        "\n",
        "# Define models to test\n",
        "models = {\n",
        "    \"LR\":  LogisticRegression(max_iter=500),\n",
        "    \"RF\":  RandomForestClassifier(n_estimators=300, random_state=42, n_jobs=-1),\n",
        "    \"XGB\": XGBClassifier(\n",
        "        n_estimators=500, max_depth=4, learning_rate=0.05,\n",
        "        subsample=0.9, colsample_bytree=0.9, reg_lambda=1.0,\n",
        "        tree_method=\"hist\", random_state=42\n",
        "    )\n",
        "}\n"
      ],
      "metadata": {
        "id": "K2vJlzK3N8kc"
      },
      "execution_count": 25,
      "outputs": []
    },
    {
      "cell_type": "code",
      "source": [
        "# Define modelling dataset\n",
        "min_date, max_date = df.index.min(), df.index.max()\n",
        "print(f\"Data range available: {min_date.date()} → {max_date.date()}\")\n",
        "\n",
        "START_DATE = min_date   # full range, or \"2017-01-01\" for faster debug\n",
        "df_mod = data.loc[data.index >= START_DATE].copy()\n",
        "\n",
        "print(f\"Using {df_mod.shape[0]} rows for modelling ({df_mod.index.min().date()} → {df_mod.index.max().date()})\")\n"
      ],
      "metadata": {
        "colab": {
          "base_uri": "https://localhost:8080/"
        },
        "id": "5TVWPA80NlqE",
        "outputId": "3d0ef919-2330-4da0-b5f7-c9cddec4ed2b"
      },
      "execution_count": 26,
      "outputs": [
        {
          "output_type": "stream",
          "name": "stdout",
          "text": [
            "Data range available: 2015-09-08 → 2025-09-05\n",
            "Using 985 rows for modelling (2016-03-08 → 2020-05-18)\n"
          ]
        }
      ]
    },
    {
      "cell_type": "code",
      "source": [
        "# Use only price/technical features, no *_trend columns\n",
        "exclude_cols = {\"GC=F Close\", \"gold_ret1\", \"y_up\"} | set(trend_cols)  # adjust if needed\n",
        "baseline_cols = [c for c in df_mod.columns if df_mod[c].dtype != \"O\" and c not in exclude_cols]\n",
        "print(f\"[6A] Baseline features: {len(baseline_cols)}\")\n",
        "\n",
        "results_baseline = {}\n",
        "for name, mdl in models.items():  # models = {\"LR\":..., \"RF\":..., \"XGB\":...}\n",
        "    out_b, m_b = walk_forward_eval(df_mod, baseline_cols, mdl)\n",
        "    results_baseline[name] = (out_b, m_b)\n",
        "    print(f\"BASE {name} | ACC: {m_b['acc']:.3f} | F1: {m_b['f1']:.3f} | AUC: {m_b['auc']:.3f}\")\n"
      ],
      "metadata": {
        "colab": {
          "base_uri": "https://localhost:8080/"
        },
        "id": "eaTi5-cs-B3-",
        "outputId": "2cfddbaa-9440-4e1e-a65a-837bad9d1a13"
      },
      "execution_count": null,
      "outputs": [
        {
          "output_type": "stream",
          "name": "stdout",
          "text": [
            "[6A] Baseline features: 40\n"
          ]
        }
      ]
    },
    {
      "cell_type": "code",
      "source": [
        "# === Utility: save one RUN (all models together) to a TXT ===\n",
        "from pathlib import Path\n",
        "from datetime import datetime\n",
        "\n",
        "OUT_DIR = Path(\"/content/drive/MyDrive/gt-markets/outputs\")\n",
        "OUT_DIR.mkdir(parents=True, exist_ok=True)\n",
        "\n",
        "def save_run_group_txt(\n",
        "    pair_label: str,          # e.g., \"Gold\"\n",
        "    run_label: str,           # e.g., \"baseline\" or \"baseline + keywords\"\n",
        "    results_dict: dict,       # e.g., results_baseline or results_extended\n",
        "    keywords: list = None,    # list[str] of keywords used; None/[] for baseline\n",
        "    features_count: int = None,\n",
        "    rows_used: int = None,\n",
        "    extra_note: str = \"\"\n",
        "):\n",
        "    ts = datetime.now().strftime(\"%Y%m%d-%H%M%S\")\n",
        "    safe_pair = pair_label.replace(\" \", \"_\").lower()\n",
        "    safe_run  = run_label.replace(\" \", \"_\").replace(\"+\", \"plus\").lower()\n",
        "    out_path  = OUT_DIR / f\"{safe_pair}_{safe_run}_{ts}.txt\"\n",
        "\n",
        "    with open(out_path, \"w\") as f:\n",
        "        f.write(f\"{pair_label} — {run_label}\\n\")\n",
        "        f.write(f\"Timestamp: {ts}\\n\")\n",
        "        if features_count is not None:\n",
        "            f.write(f\"Features used: {features_count}\\n\")\n",
        "        if rows_used is not None:\n",
        "            f.write(f\"Rows used: {rows_used}\\n\")\n",
        "        if extra_note:\n",
        "            f.write(f\"Note: {extra_note}\\n\")\n",
        "        f.write(\"\\nKeywords used:\\n\")\n",
        "        if keywords:\n",
        "            for k in keywords:\n",
        "                f.write(f\"- {k}\\n\")\n",
        "        else:\n",
        "            f.write(\"- None\\n\")\n",
        "\n",
        "        f.write(\"\\nResults (all models):\\n\")\n",
        "        # results_dict is like {\"LR\": (out_df, {\"acc\":..., \"f1\":..., \"auc\":...}), ...}\n",
        "        for model_name, (_out, met) in results_dict.items():\n",
        "            acc = met.get(\"acc\", float(\"nan\"))\n",
        "            f1  = met.get(\"f1\", float(\"nan\"))\n",
        "            auc = met.get(\"auc\", float(\"nan\"))\n",
        "            f.write(f\"{model_name}: ACC={acc:.3f}, F1={f1:.3f}, AUC={auc:.3f}\\n\")\n",
        "\n",
        "    print(\"Saved:\", out_path)\n"
      ],
      "metadata": {
        "id": "TqYZKHVjDO7E"
      },
      "execution_count": null,
      "outputs": []
    },
    {
      "cell_type": "code",
      "source": [
        "# Save one TXT with all baseline model results\n",
        "save_run_group_txt(\n",
        "    pair_label=\"Gold\",\n",
        "    run_label=\"baseline\",\n",
        "    results_dict=results_baseline,\n",
        "    keywords=[],                              # none for baseline\n",
        "    features_count=len(baseline_cols),\n",
        "    rows_used=len(df_mod)\n",
        ")\n"
      ],
      "metadata": {
        "id": "VRYYI-W_DTdr"
      },
      "execution_count": null,
      "outputs": []
    },
    {
      "cell_type": "code",
      "source": [
        "# 6B-1: Load pre-filtered keywords and keep only GOLD (Pair = \"GC=F\")\n",
        "import pandas as pd, numpy as np, re\n",
        "from pathlib import Path\n",
        "\n",
        "KW_PATH = Path(\"/content/drive/MyDrive/gt-markets/data/Keyword Selection/combined_significant_lagged_correlations.csv\")\n",
        "dfk = pd.read_csv(KW_PATH)\n",
        "\n",
        "# Expect capitalized headers from James's file\n",
        "assert {\"Pair\",\"Keyword\"}.issubset(dfk.columns), f\"Unexpected columns: {dfk.columns.tolist()}\"\n",
        "\n",
        "dfk_gold = dfk[dfk[\"Pair\"] == \"GC=F\"].copy()\n",
        "assert not dfk_gold.empty, \"No GOLD rows found (Pair == 'GC=F') in the keyword file.\"\n",
        "\n",
        "keep_keywords = (dfk_gold[\"Keyword\"]\n",
        "                 .dropna()\n",
        "                 .astype(str)\n",
        "                 .str.strip()\n",
        "                 .str.lower()\n",
        "                 .unique()\n",
        "                 .tolist())\n",
        "\n",
        "print(f\"[6B-1] Using {len(keep_keywords)} GOLD keywords from Pair=GC=F\")\n",
        "for k in keep_keywords[:20]: print(\"-\", k)\n",
        "if len(keep_keywords) > 20: print(\"...\")\n"
      ],
      "metadata": {
        "id": "0SpsBWaG7i9j"
      },
      "execution_count": null,
      "outputs": []
    },
    {
      "cell_type": "code",
      "source": [
        "# 6B-2: Map GOLD keywords to *_trend columns present in df_mod\n",
        "def _norm(s: str) -> str:\n",
        "    return re.sub(r\"[^a-z0-9]+\", \"\", str(s).lower())\n",
        "\n",
        "trend_cols_all = [c for c in df_mod.columns if c.endswith(\"_trend\")]\n",
        "\n",
        "kw_to_col, unmatched = {}, []\n",
        "for kw in keep_keywords:\n",
        "    n = _norm(kw)\n",
        "    matches = [c for c in trend_cols_all if n in _norm(c.replace(\"_trend\",\"\"))]\n",
        "    if matches:\n",
        "        kw_to_col[kw] = matches[0]         # first/best match\n",
        "    else:\n",
        "        unmatched.append(kw)\n",
        "\n",
        "selected_trend_cols = list(dict.fromkeys(kw_to_col.values()))  # de-dup, preserve order\n",
        "\n",
        "print(f\"[6B-2] Mapped {len(selected_trend_cols)} GOLD keywords to trend columns; unmatched={len(unmatched)}\")\n",
        "if unmatched:\n",
        "    print(\"Unmatched sample:\", unmatched[:10])\n",
        "assert len(selected_trend_cols) > 0, \"No GOLD keywords matched *_trend columns. Check naming in df_mod.\"\n"
      ],
      "metadata": {
        "id": "n4_KVlUbAkEo"
      },
      "execution_count": null,
      "outputs": []
    },
    {
      "cell_type": "code",
      "source": [
        "# 6B-3: Create lagged %change features for selected trends (avoid fragmentation)\n",
        "def build_trend_lag_features(frame: pd.DataFrame, cols):\n",
        "    feats = {}\n",
        "    for c in cols:\n",
        "        chg1 = frame[c].pct_change()\n",
        "        chg7 = frame[c].pct_change(7)\n",
        "        feats[c + \"_chg1_lag1\"] = chg1.shift(1)  # use prior day → no leakage\n",
        "        feats[c + \"_chg7_lag1\"] = chg7.shift(1)\n",
        "    return pd.DataFrame(feats, index=frame.index)\n",
        "\n",
        "sel_trend_feats = build_trend_lag_features(df_mod, selected_trend_cols)\n",
        "\n",
        "# Drop very sparse columns (mostly NaN)\n",
        "nan_ratio = sel_trend_feats.isna().mean()\n",
        "keep_feat_cols = nan_ratio[nan_ratio < 0.50].index.tolist()\n",
        "sel_trend_feats = sel_trend_feats[keep_feat_cols]\n",
        "\n",
        "print(f\"[6B-3] Dropped {len(nan_ratio)-len(keep_feat_cols)} sparse features; kept {len(keep_feat_cols)}\")\n"
      ],
      "metadata": {
        "id": "izT9XsgXAqkY"
      },
      "execution_count": null,
      "outputs": []
    },
    {
      "cell_type": "code",
      "source": [
        "# 6B-4: Join, keep warmup rows only, fill NaNs in NEW trend features\n",
        "WARMUP = 8  # due to pct_change(7) then shift(1)\n",
        "df_ext = df_mod.join(sel_trend_feats)\n",
        "df_ext = df_ext.iloc[WARMUP:].copy()\n",
        "\n",
        "# Fill remaining NaNs in newly created trend features ONLY\n",
        "df_ext[keep_feat_cols] = df_ext[keep_feat_cols].fillna(0.0)\n",
        "\n",
        "# Extended feature set = baseline + new trend features\n",
        "sel_feat_cols = keep_feat_cols\n",
        "extended_cols = sorted(set(baseline_cols).union(sel_feat_cols))\n",
        "\n",
        "print(f\"[6B-4] Extended features: {len(extended_cols)} | Rows for modelling: {len(df_ext):,}\")\n"
      ],
      "metadata": {
        "id": "CVTJBZPdAsoA"
      },
      "execution_count": null,
      "outputs": []
    },
    {
      "cell_type": "code",
      "source": [
        "# 6B-5: Sanitize extended matrix for robust training\n",
        "X = df_ext[extended_cols].replace([np.inf, -np.inf], np.nan).fillna(0.0)\n",
        "\n",
        "# Winsorize extremes per column (0.1%–99.9%)\n",
        "lo = X.quantile(0.001)\n",
        "hi = X.quantile(0.999)\n",
        "X = X.clip(lower=lo, upper=hi, axis=1)\n",
        "\n",
        "df_ext[extended_cols] = X\n",
        "\n",
        "import numpy as np\n",
        "n_inf = np.isinf(df_ext[extended_cols].to_numpy()).sum()\n",
        "n_nan = np.isnan(df_ext[extended_cols].to_numpy()).sum()\n",
        "print(f\"[6B-5] Sanitize → inf: {n_inf} | nan: {n_nan}\")\n"
      ],
      "metadata": {
        "id": "ecle5RBXAu9P"
      },
      "execution_count": null,
      "outputs": []
    },
    {
      "cell_type": "code",
      "source": [
        "# 6C: Train extended models with a dynamic start_index (ensures evaluation runs)\n",
        "def pick_start_index(n_rows, floor=60, frac=0.30, cap=500):\n",
        "    return max(floor, min(cap, int(n_rows * frac)))\n",
        "\n",
        "start_idx = pick_start_index(len(df_ext))\n",
        "print(f\"[6C] Walk-forward start_index = {start_idx}\")\n",
        "\n",
        "results_extended = {}\n",
        "for name, mdl in models.items():  # models & walk_forward_eval defined in 6A\n",
        "    out_e, m_e = walk_forward_eval(df_ext, extended_cols, mdl, start_index=start_idx)\n",
        "    results_extended[name] = (out_e, m_e)\n",
        "    print(f\"EXT {name} | ACC: {m_e['acc']:.3f} | F1: {m_e['f1']:.3f} | AUC: {m_e['auc']:.3f}\")\n"
      ],
      "metadata": {
        "id": "H95D-DqXAxSU"
      },
      "execution_count": null,
      "outputs": []
    },
    {
      "cell_type": "code",
      "source": [
        "# Save one TXT with all extended model results\n",
        "keywords_used = list(kw_to_col.keys())  # from your 6B mapping\n",
        "save_run_group_txt(\n",
        "    pair_label=\"Gold\",\n",
        "    run_label=\"baseline + keywords\",\n",
        "    results_dict=results_extended,\n",
        "    keywords=keywords_used,\n",
        "    features_count=len(extended_cols),\n",
        "    rows_used=len(df_ext)\n",
        ")\n"
      ],
      "metadata": {
        "id": "LlS_Uj2rDZrE"
      },
      "execution_count": null,
      "outputs": []
    },
    {
      "cell_type": "code",
      "source": [
        "# 6D: Baseline vs Extended comparison\n",
        "rows = []\n",
        "for name in models.keys():\n",
        "    mb = results_baseline[name][1]\n",
        "    me = results_extended[name][1]\n",
        "    rows.append({\n",
        "        \"model\": name,\n",
        "        \"baseline_acc\": mb[\"acc\"], \"baseline_f1\": mb[\"f1\"], \"baseline_auc\": mb[\"auc\"],\n",
        "        \"extended_acc\": me[\"acc\"], \"extended_f1\": me[\"f1\"], \"extended_auc\": me[\"auc\"],\n",
        "        \"acc_diff\": me[\"acc\"] - mb[\"acc\"],\n",
        "        \"auc_diff\": me[\"auc\"] - mb[\"auc\"],\n",
        "    })\n",
        "cmp_df = pd.DataFrame(rows).set_index(\"model\")\n",
        "print(\"\\n[6D] Baseline vs GOLD Extended:\")\n",
        "display(cmp_df.style.format(\"{:.3f}\"))\n"
      ],
      "metadata": {
        "id": "yu21rceeA0ob"
      },
      "execution_count": null,
      "outputs": []
    }
  ]
}